{
  "nbformat": 4,
  "nbformat_minor": 0,
  "metadata": {
    "colab": {
      "provenance": [],
      "gpuType": "T4"
    },
    "kernelspec": {
      "name": "python3",
      "display_name": "Python 3"
    },
    "language_info": {
      "name": "python"
    },
    "accelerator": "GPU"
  },
  "cells": [
    {
      "cell_type": "markdown",
      "source": [
        "# Transcription et Résumé d'une Réunion\n",
        "\n",
        "Ce notebook vous permet de :\n",
        "\n",
        "1. **Transcrire** un fichier audio de réunion en texte grâce à la version open source de Whisper.\n",
        "2. **Générer un résumé** de la transcription ainsi que **les points clés** via l'API OpenAI (GPT).\n",
        "\n",
        "## Pré-requis\n",
        "\n",
        "- Un compte Google pour utiliser Google Colab.\n",
        "- Avoir enregistré votre fichier audio (exemple : `Meeting.m4a`) dans votre Google Drive.\n",
        "- Votre clé API OpenAI (pour les résumés et l'extraction des points clés).\n",
        "- **TOUJOURS VERIFIER** que le mode d'éxecution est GPU T4, pour le vérifier, faites :\n",
        "\n",
        " onglet **Execution** --> **Modifier le type d'execution** --> **Accélérateur de matériel** --> **GPU T4**\n",
        "\n",
        "Suivez les instructions de chaque cellule pour monter votre Google Drive, renseigner votre clé API et indiquer le chemin de votre fichier audio.\n",
        "\n",
        "**Pour lancer une cellule, cliquez une seule fois sur le bouton play en haut à gauche des cellules contenant du code.**\n"
      ],
      "metadata": {
        "id": "izHzFChZ86zE"
      }
    },
    {
      "cell_type": "code",
      "source": [
        "# Monter Google Drive pour accéder à vos fichiers\n",
        "from google.colab import drive\n",
        "drive.mount('/content/drive')\n",
        "\n",
        "# Installer les packages nécessaires\n",
        "# Pour Whisper (si non déjà installé)\n",
        "!pip install -q git+https://github.com/openai/whisper.git\n",
        "!sudo apt update > /dev/null 2>&1 && sudo apt install -y ffmpeg > /dev/null 2>&1\n",
        "!pip install -q openai"
      ],
      "metadata": {
        "colab": {
          "base_uri": "https://localhost:8080/"
        },
        "id": "Jt-kYweL8_rT",
        "outputId": "8b0e09ee-29b7-4d00-f330-db4cd65c9201"
      },
      "execution_count": null,
      "outputs": [
        {
          "output_type": "stream",
          "name": "stdout",
          "text": [
            "Drive already mounted at /content/drive; to attempt to forcibly remount, call drive.mount(\"/content/drive\", force_remount=True).\n",
            "  Installing build dependencies ... \u001b[?25l\u001b[?25hdone\n",
            "  Getting requirements to build wheel ... \u001b[?25l\u001b[?25hdone\n",
            "  Preparing metadata (pyproject.toml) ... \u001b[?25l\u001b[?25hdone\n"
          ]
        }
      ]
    },
    {
      "cell_type": "markdown",
      "source": [
        "**Note :** La première exécution de la cellule vous demandera d'autoriser l'accès à votre Google Drive. Cliquez sur le lien, connectez-vous et accepter les différentes étapes. (autorisez tout)"
      ],
      "metadata": {
        "id": "41yN-suV9T_H"
      }
    },
    {
      "cell_type": "markdown",
      "source": [
        "### Chargement clé API\n",
        "\n",
        "Lancez juste la cellule ci-dessous. Si une demande d'accès est demandé, autorisez la."
      ],
      "metadata": {
        "id": "H2NNApJ9-Be6"
      }
    },
    {
      "cell_type": "code",
      "source": [
        "from google.colab import userdata\n",
        "import os\n",
        "\n",
        "openapi_key = userdata.get('OPENAI_API_KEY')\n",
        "os.environ['OPENAI_API_KEY'] = openapi_key"
      ],
      "metadata": {
        "id": "-rYi5ZzK9W_V"
      },
      "execution_count": null,
      "outputs": []
    },
    {
      "cell_type": "markdown",
      "source": [
        "**Important :** La clé API est secrète mais accessible avec vos droits. Merci de ne pas partager directement ce drive à quelqu'un d'extérieur à la famille."
      ],
      "metadata": {
        "id": "LPQFP4E_-Y9F"
      }
    },
    {
      "cell_type": "markdown",
      "source": [
        "### Corps de l'IA\n",
        "\n",
        "Lancez juste la cellule."
      ],
      "metadata": {
        "id": "z5L4rfPC_YRG"
      }
    },
    {
      "cell_type": "code",
      "source": [
        "import whisper\n",
        "from openai import OpenAI\n",
        "\n",
        "# Récupérer la clé API depuis la variable d'environnement\n",
        "openapi_key = os.getenv('OPENAI_API_KEY')\n",
        "client = OpenAI(api_key=openapi_key)\n",
        "\n",
        "# Chargement du modèle Whisper open source (version \"turbo\")\n",
        "# Vous pouvez changer le modèle si besoin (ex. \"base\", \"small\", \"medium\", etc.)\n",
        "model = whisper.load_model(\"turbo\")\n",
        "\n",
        "def speech_converter(audio_file):\n",
        "    \"\"\"\n",
        "    Transcrit l'audio en texte en utilisant le modèle open source Whisper.\n",
        "    \"\"\"\n",
        "    result = model.transcribe(audio_file, language='fr')\n",
        "    return result[\"text\"]\n",
        "\n",
        "def send_prompt(messages, model=\"gpt-4o-mini\", timeout=30):\n",
        "    \"\"\"\n",
        "    Envoie une requête à l'API OpenAI pour générer un résumé ou extraire les points clés.\n",
        "    \"\"\"\n",
        "    completion = client.chat.completions.create(\n",
        "        messages=messages,\n",
        "        model=model,\n",
        "        timeout=timeout\n",
        "    )\n",
        "    response = completion.choices[0].message.content\n",
        "    return response\n",
        "\n",
        "# Prompts pour le résumé et l'extraction des points clés\n",
        "PROMPT1 = '''Tu es un agent chargé de résumer la transcription d'une réunion qui t'a été donnée.\n",
        "La réunion est en français. Tu dois faire en sorte de résumer le plus fidèlement possible et de retranscrire le contexte.\n",
        "S'agissant de réunions professionnelles, veille à réduire au maximum la perte d'information lors de ce résumé.'''\n",
        "\n",
        "PROMPT2 = '''Tu es un agent chargé d'extraire les points clés d'une transcription écrite de réunion.\n",
        "Ton objectif est d'extraire tous les points clés des textes qui vont t'être donnés.\n",
        "S'agissant de réunions professionnelles, veille à ne pas rater de points clés.'''\n",
        "\n",
        "def get_gpt_response(query, prompt):\n",
        "    \"\"\"\n",
        "    Prépare et envoie la requête à l'API OpenAI pour obtenir la réponse souhaitée.\n",
        "    \"\"\"\n",
        "    chat_api = [\n",
        "        {\"role\": \"system\", \"content\": prompt},\n",
        "        {\"role\": \"user\", \"content\": query}\n",
        "    ]\n",
        "    response = send_prompt(chat_api)\n",
        "    return response\n",
        "\n",
        "def SpeechExtractor(audio_file):\n",
        "    \"\"\"\n",
        "    Extrait la transcription, le résumé et les points clés d'un fichier audio.\n",
        "    \"\"\"\n",
        "    transcription = speech_converter(audio_file)\n",
        "    resume = get_gpt_response(transcription, PROMPT1)\n",
        "    keypoints = get_gpt_response(transcription, PROMPT2)\n",
        "    return transcription, resume, keypoints"
      ],
      "metadata": {
        "id": "hi4HQIeV-jAl",
        "colab": {
          "base_uri": "https://localhost:8080/"
        },
        "outputId": "f5bfa0f0-4b60-4f30-c9ed-dd92a3853b2c"
      },
      "execution_count": null,
      "outputs": [
        {
          "output_type": "stream",
          "name": "stderr",
          "text": [
            "/usr/local/lib/python3.11/dist-packages/whisper/__init__.py:150: FutureWarning: You are using `torch.load` with `weights_only=False` (the current default value), which uses the default pickle module implicitly. It is possible to construct malicious pickle data which will execute arbitrary code during unpickling (See https://github.com/pytorch/pytorch/blob/main/SECURITY.md#untrusted-models for more details). In a future release, the default value for `weights_only` will be flipped to `True`. This limits the functions that could be executed during unpickling. Arbitrary objects will no longer be allowed to be loaded via this mode unless they are explicitly allowlisted by the user via `torch.serialization.add_safe_globals`. We recommend you start setting `weights_only=True` for any use case where you don't have full control of the loaded file. Please open an issue on GitHub for any issues related to this experimental feature.\n",
            "  checkpoint = torch.load(fp, map_location=device)\n"
          ]
        }
      ]
    },
    {
      "cell_type": "markdown",
      "source": [
        "### **Chargement du fichier**\n",
        "\n",
        "**Indiquez ici le chemin vers votre fichier audio sur Google Drive.**\n",
        "\n",
        "Pour récupérer le chemin :\n",
        "1. Allez dans le panneau de gauche (\"Fichiers\") de Colab.\n",
        "2. Cliquez sur l'icône Google Drive.\n",
        "3. Naviguez jusqu'à votre fichier audio (\"drive\" -> \"MyDrive\" -> \"IA pour maman\"), faites un clic droit et sélectionnez \"Copier le chemin d'accès\".\n",
        "4. Bien mettre le chemin d'accès entre guillemets (simple ou double peut importe)\n",
        "\n",
        "\n",
        "**Exemple :**\n",
        "\n",
        "\n",
        "audio_file = '/content/drive/MyDrive/IA pour maman/Meeting.m4a'"
      ],
      "metadata": {
        "id": "OC67dMPZ_ugI"
      }
    },
    {
      "cell_type": "markdown",
      "source": [],
      "metadata": {
        "id": "GFG0MfZGr3C5"
      }
    },
    {
      "cell_type": "code",
      "source": [],
      "metadata": {
        "id": "evp5382bMy2B"
      },
      "execution_count": null,
      "outputs": []
    },
    {
      "cell_type": "code",
      "source": [],
      "metadata": {
        "id": "i05CcpIxMzZ9"
      },
      "execution_count": null,
      "outputs": []
    },
    {
      "cell_type": "code",
      "source": [
        "audio_file ='/content/drive/MyDrive/IA pour maman/Nouvel enregistrement 16.m4a'"
      ],
      "metadata": {
        "id": "4ulQelZnAaN-"
      },
      "execution_count": null,
      "outputs": []
    },
    {
      "cell_type": "markdown",
      "source": [
        "### **Lancement de l'IA**\n",
        "\n",
        "**Lancer la cellule ci-dessous pour que l'IA fasse le traitement de l'audio et le résumé de celui-ci.**\n",
        "\n",
        "\n",
        "\n",
        "**Attention :** Vérifier bien que le bon fichier audio est sélectionné ci-dessus.\n",
        "\n",
        "\n",
        "**En cas d'erreur ou autre**, vous pouvez arrêter le traitement en appuyant sur le carré qui a remplacé le 'play' en haut à gauche de la cellule.**\n",
        "\n",
        ".\n",
        "\n",
        "**Pour convertir un autre fichier, remplacer le fichier ci-dessu par le chemin d'accès de votre nouveau fichier puis relancer la cellule ci-dessous**\n",
        "  \n",
        ".\n",
        "\n",
        ".\n",
        "\n",
        "\n",
        "**Note importante** : Pour le résultat, pour faciliter l'extraction, vous pouvez au choix copier coller directement la sortie, soit cliquez sur le bouton en haut à gauche de la sortie (petite flèche) et sélectionner afficher en plein écran pour n'avoir que la sortie en visuel (echap pour en sortir)."
      ],
      "metadata": {
        "id": "UwJOqh5pAznM"
      }
    },
    {
      "cell_type": "code",
      "source": [],
      "metadata": {
        "id": "KFGSa-mv856S"
      },
      "execution_count": null,
      "outputs": []
    },
    {
      "cell_type": "code",
      "source": [],
      "metadata": {
        "id": "Eo3-7jnsqyzy"
      },
      "execution_count": null,
      "outputs": []
    },
    {
      "cell_type": "code",
      "source": [],
      "metadata": {
        "id": "uCielI1csyqs"
      },
      "execution_count": null,
      "outputs": []
    },
    {
      "cell_type": "code",
      "source": [
        "# Exécuter l'extraction : transcription, résumé et points clés\n",
        "transcription, resume, keypoints = SpeechExtractor(audio_file)\n",
        "\n",
        "print(\"------------------------------------------------------------\")\n",
        "print(\"Transcription :\\n\")\n",
        "print(transcription)\n",
        "print(\"\\n------------------------------------------------------------\\n\")\n",
        "print(\"Résumé :\\n\")\n",
        "print(resume)\n",
        "print(\"\\n------------------------------------------------------------\\n\")\n",
        "print(\"Points clés :\\n\")\n",
        "print(keypoints)\n",
        "print(\"\\n------------------------------------------------------------\")"
      ],
      "metadata": {
        "id": "KCpLPaJAAy7H",
        "colab": {
          "base_uri": "https://localhost:8080/"
        },
        "outputId": "3bf53b95-16e2-4ce6-92dc-3426106dd490"
      },
      "execution_count": null,
      "outputs": [
        {
          "output_type": "stream",
          "name": "stdout",
          "text": [
            "------------------------------------------------------------\n",
            "Transcription :\n",
            "\n",
            " Il y avait toujours trois mois par mois, le dernier NGVO au mois d'août, on nous a indiqué la question. Donc nous avons posé une question légitime. La médiation littorale, ça démarre, c'était une réunion par mois, insuffisant. Donc aujourd'hui, c'est ce qui est donné comme raison, c'est une raison d'organisation de personnes. Il y a deux personnes qui vont avoir un heureux événement, mais elles ne sont pas là, donc le système est arrêté. Et deux personnes en moins, on est obligé de faire une réunion par mois. Même notre adjointe, Mme Robert, a constaté la chose, on s'est rapprochés de Mme Bonnet, et puis finalement, comme c'est la ville de Marseille qui organise ça et qui réserve les personnes personnelles, voilà où on en est. Je parle de la médiation littorale du 7e, je pense que c'est pour les paroles. Donc voilà, ça, ça serait un truc qu'il faudrait faire remonter aussi, mais que c'est déjà remonter d'autre côté. Et ça, ça a déjà été remonté, puisque nous en avons déjà parlé au niveau du 7e avant, puisque le 1er, 2e et le 7e, on est à peu près au même niveau. Nous, la question a été posée, c'est moi qui ai posé la question à Yannick Bonnet-Scient, il était tout étonné, d'ailleurs, quand on lui a posé la question, il ne savait pas. Voilà. Et je lui ai dit, pour nous, une fois par mois, ce n'est pas suffisant. Donc, maintenant, si vous maintenez une fois par mois, peut-être que nous, on va avoir des répercussions aussi, on verra en commission ce qu'on décide de faire. Voilà. Donc maintenant, la balle est dans notre camp. Qu'est-ce qu'on fait ? Je le dis, ce qu'on va faire, nous, au niveau du 7e, on va demander à réintégrer les GPO sur les... Parce que nous, on a des CIQ littoraux. On a quelques kilomètres de... On a, je crois, 7 ou 8 kilomètres de côte. Donc, il y a la 52 sur la commune. Mais bon, il faut que les CIQ qui sont au littoral, quel que soit le périmètre de Marseille, réintégrent les GPO. Puisque, une fois par mois, pour faire remonter l'info, comme tu l'as dit, c'est suffisant. Donc, il faut que la police municipale entende que... Et la police nationale, on va demander à réintégrer les GPO. C'est un peu ce qu'on a abordé avec ma collègue animatrice sur la sécurité au niveau de nos 7e. Et je pense qu'il faudrait que dans toutes les fédérations, l'ITORA rejoigne les GPO. Ça, c'est la position du 7e. Le 8e, qu'est-ce que... Oui, le 8e, il y a longtemps que l'été, on sépare la fédération en deux. Il y a ceux qui ont l'envoyé, Perrier, Saint-Anne, qui sont en... Excusez-moi. Oui, bon, le 8e, il y a longtemps qu'on a séparé en deux pour la période estivale. Tout ce qui est Saint-Anne, Perrier, Auré, on n'assiste plus à un paquet de réunions où ce ne sont que les CQ du 8e. Oui, c'est pas logique. Pour leur problématique, et alors que nous, à l'intérieur, on n'a pas du tout les mêmes problèmes. Donc, ça nous a pas mixé que eux fassent plein de réunions pour essayer de faire avancer les choses. C'est pas plein de réunions, c'est que j'ai plus de réunions... Enfin, des réunions avec les élus, avec tout le monde. Pour qu'il y a une... Moi, à sa taille, je n'ai pas compris. L'auré n'est pas compris, enfin. C'est vrai que c'est pas... Oui, puisque seuls les CQ qui sont en bord de littoral sont... Sont conservés. Sont conservés. Mais c'est pas une question de l'exemple, c'est une question d'organisation. Tout à fait. On ne peut pas, sur le littoral, travailler à 32 jours. Ah, c'est ça. C'est pas possible. Alors, je voulais revenir sur l'avion de sécurité littorale, après mélanger avec les GPO. Par exemple, dans le 9e, c'est pas possible. Puisque nous, on est à la fois sécurité littorale, 9e et 8e, puisqu'il y a le parc national qui a le dernier. Donc nous, à notre grande surprise, c'est plus d'une fois par mois, sachant que juillet et août, la problématique, c'est tous les 15 jours. Donc on en a déjà parlé. Donc c'est vrai que nous, on souhaite que ce soit au moins une fois de quelques jours, comme c'était avant, même si on peut faire remonter comme général. Les gens qui gèrent la réunion de sécurité littorale sont quand même très actifs. Et maintenant, il y a une dame qui est procureure, je sais pas si tu la connais, qui est très vieille, une nouvelle, et qui est vraiment très vieille. Alors moi, en ce qui concerne la représentativité du 9e, parce que le 9e, c'est quand même les galandres de Sormiu et de Gizhou, c'est quand même des zones assez difficiles. Bon, maintenant, il n'y a plus personne qui représente Morgiu. Donc en fait, moi, je me retrouve à défendre Sormiu, parce que c'est là où il y a des problèmes, mais il y a une évolution dans ces réunions de sécurité littorale, et ça va se développer, et ça doit être présent aussi dans la réunion de sécurité littorale du 8e, c'est-à-dire qui prévoit de mettre en place des barrières automatiques. Et ça, la finalité... C'est... C'est... C'est... Écoute, à la dernière réunion, je sais pas si tu étais... Non, j'étais le 7e. Ah, voilà. Voilà, donc ils ont annoncé, à la prochaine réunion qui aura lieu le 23, les dieux de faisabilité de l'installation de cette barrière. Voilà. Donc je pense que c'est très important qu'on y soit, et après, comment je peux faire... Alors, je vais me rapprocher de M. Battistoni, mais j'ai quand même pas de légitimité pour représenter les cabanons de... Les maisons de Morfou. Pour Sorbonne, il n'y a pas de problème. Chez André Passito, on est toujours en binôme, donc ça se passe très bien. Mais pour Morfou, je sais pas trop comment faire. Je veux pas qu'après, ça nous retombe dessus, alors que moi, je suis pas... C'est de voir avec, par exemple, le sujet de Culli-Cannolome qui s'est recréée, là. Non, mais Culli-Cannolome, c'est une chose. Non, mais c'est très bien. Mais ce serait peut-être bien que la Confédération fasse remonter à M. Battistoni, avec qui j'ai de très bons rapports, c'est pas le souci. Mais il n'y a pas que lui à Morfou. Il y a aussi des résidents... Voilà. Est-ce que ça... Peut-être que Grégoire peut aussi faire quelque chose à ce niveau-là, puisque lui, il connaît très bien les habitants de Morfou. Il y est très souvent. Il faut absolument qu'il soit présent à ces réunions. Voilà. Parce qu'on est un juge de Pays-Los-Charnière. Ça se fera peut-être pas. Mais c'est pas le plus... De toute façon, demain, dans ma... Dans ma rencontre avec Grégoire, je vais lui parler de tous ces problèmes-là, de toute façon, parce que, après tout, c'est lui de directeur du CLSPD. Or, le littoral, ça fait partie du CLSPD. Donc... C'est surtout le 8 octobre. Voilà. Donc, moi, personnellement, je suis bande-deboue, là, vis-à-vis de cette chose-là. Quand j'en ai parlé à Yaddy Connaissant, il a dit, oui, vous avez raison, on va mettre un délai en fonction de ce que vous désirez. Donc, on l'a dit, tous les 15 jours. Comme c'était avant. Et je lui ai dit, mais encore, auparavant, ça a été toutes les semaines. Oui, c'est un peu le temps. Donc, maintenant, on est tous les 15 jours. Toutes les semaines, c'était trop. Tous les 15 jours, c'est un bon rythme. C'est un résultat des cours, ça se gêne, donc c'est le 30 avril. Et après, c'est d'autres... Et la dernière réunion, c'est pas dans le... Au mois de juillet. Voilà. Donc, on va essayer de revenir dessus et on va voir ce que... Ce que je vais voir peut-être. Parce que... Il a été essayé, il faut encore... Il est inagisible que pendant le mois de juillet, le mois de juillet, il n'y ait qu'une réunion. Je ne peux pas voir ce genre. Alors que là, on avait un gros problème. Il faut, effectivement, avoir une réunion. Tous les gars, je vais pas faire au sein de l'heure. Oui, oui. Voilà. C'est le but. C'est le but. C'est le but. C'est le but. Tu as en tiré dans les ondes. C'est le but. C'est le but. C'est le but. C'est le but. C'est le but. C'est le but. C'est le but. C'est le but. Du haut de l'heure. Oui, non, mais bon, c'est important qu'il y ait ce rythme-là. De toute façon, il faut qu'on dise que s'il n'y a pas le rythme, de toute façon, on fera ce qu'il faut. Parce qu'on va pas laisser marcher sur des pieds comme ça. Ça suffit. La ville de Marseille n'a qu'à se débrouiller, c'est son problème. Quand on aura la preuve. C'est son problème. Moi, je suis désolé. Ils auraient pu anticiper. Ils auraient pu anticiper. D'autre part, ils ont d'autres personnes qui sont employées dans la ville et qui peuvent récupérer pour quelques mois. C'est pas un problème. C'est un problème. On est dans les coffres débrouillées s'ils ne veulent pas. Moi, je te dis très franchement, l'actuel directeur du service Prévention, il est vraiment phlegmatique pour ne pas dire autre chose. Alors que Grévoir, lui, ça y allait, ça bougeait. Il se voulait plus quand il le fallait. Lui-là, il est gentil, mais bon. Il est brave. Il est brave. Il a dit que lesquels sont lesquels sont lesquels sont lesquels. Il n'a pas eu de conseil de référence. Est-ce que le premier... Oui, j'étais débitée. Oui, j'étais débitée. Oui. Madame... C'est bon, madame Bonnever, qui vient en général. On a de temps en temps la dame qui est sur... Il est... Il est... Il est... Madame, elle y était... La dernière réunion, elle y était. Avec son adjoint, ils sont... Ils ont du trésorier. Non, ils sont vraiment très bien. Ils suivent... Ils suivent bien l'année dernière, l'été dernier. Ils ont suivi tout le temps. Ils ont fait vraiment remonter tous les problèmes. Ils ont fait vraiment remercier... Ils ont fait vraiment remercier... Ils ont fait vraiment remercier... Ils ont fait vraiment remercier... Ils ont fait vraiment remercier... Ils ont fait vraiment remercier... Donc, elle y est... Elle y est là. Vous voulez être là, moi. C'est très bien. Vous avez... Voilà. Est-ce que vous avez d'autres... D'autres questions ? Juste les emplacements... Pour que le maire soit plus réactif... Sur la taille des emplacements... Pour que nous il y a des débattements... Oui. Au lieu d'entériner... Il y a un peu de répression. Alors, je pense que le gros problème... Ce sont leurs inspecteurs. Moi, voilà. Je sais que... Nous, sur le deuxième... On a un inspecteur qui est vraiment très bien... Qui fait du gros travail... Qui... Qui agit... Moi, une fois je l'ai rencontré... On allait au GPO... Et dans le cheminement... On traversait le panier... Il s'arrêtait toutes les 30 secondes... Pour voir un peu de la sain... Pour leur dire... Là, c'est pas bon... Faut faire quelque chose... Maintenant... Monsieur Dabbé. Tout à fait... Il a piqué... Il a piqué... Il est pas papa... Il est élu qu'il est... Il est un acte de son groupe moins... Il s'arrête aux problèmes... On peut s'échanger... Non, non, non... Je reprends... C'est pas parce qu'il est encore... Mais je te confie... Non, non, moi je garde... Il est... Il est un acte de son... Il n'y a pas la barre... Il n'y a pas la barre... Il n'y a pas... Il n'y a pas la barre... Il n'y a pas... Bon, je pense qu'on a fait le tour du compte rendu... quoi... Des deux réunions... Alors... Par contre... Donc... Pour les projets de réunion... Donc... On prévoit... Le commissaire central... J'attends qu'il me dise la date... Et je vous la communiquerai... On peut demander éventuellement... Une réunion avec la... La préfète déléguée à la sécurité... De façon à... À la voir... Et... Je... Je comptais aussi... Avec ça... Il faudrait vraiment... Que ce qu'on sorte... Un peu du cadre uniquement... Sécurité... On va voir des personnes... Un peu tous les siècles possible... Avec Oumay... La fameuse... Euh... Que sais-je... La fameuse... Euh... La fameuse... Application... Application... Pour que le... Le directeur général de... Oumay... Vienne... Et qu'il explique comment ça fonctionne... Il nous montre... Etc... Non mais... C'est... C'est... Mais d'ailleurs... On a pu... Oui... Oui... Non... Il m'a proposé... Il m'a proposé de venir en commission... Pour expliquer beaucoup plus... Faire vraiment... Euh... Comment s'inscrire... Etc... Pour... Parce que... Il y a un certain nombre de personnes qui vont remonter... Qu'elles avaient des difficultés à le faire... Et donc... Si lui il peut venir en France... On peut ouvrir... Euh... La commission à la personne... Ça fait un peu... Tu lèves... Tu lèves... I... Ou... I... Ou... C'est la application... Ou... Y...\n",
            "\n",
            "------------------------------------------------------------\n",
            "\n",
            "Résumé :\n",
            "\n",
            "La réunion a principalement porté sur la médiation littorale et les difficultés rencontrées dans son organisation. En résumé :\n",
            "\n",
            "1. **Fréquence des Réunions** : La médiation littorale, qui se tenait initialement trois fois par mois, a été réduite à une réunion mensuelle en raison d'une baisse d'effectifs, notamment deux personnes étant absentes pour un heureux événement. Cela a suscité des inquiétudes, car une réunion par mois est considérée comme insuffisante pour traiter les problèmes liés au littoral.\n",
            "\n",
            "2. **Interventions des Élus** : Plusieurs participants, dont des adjoints comme Mme Robert, ont abordé ce sujet avec d'autres élus, y compris Yannick Bonnet-Scient, qui a exprimé sa surprise face à cette organisation. Ils ont convenu que la situation actuelle n'était pas satisfaisante, et des discussions sont nécessaires pour rétablir un rythme plus adapté.\n",
            "\n",
            "3. **Problèmes Locaux** : Le 7e arrondissement a souligné la nécessité de réintégrer les Groupes de Proximité (GPO) pour une meilleure gestion des CIQ littoraux, compte tenu de l'importance de la côte dans leur périmètre. Des préoccupations similaires ont été exprimées concernant les différences dans les problématiques des différents quartiers, notamment entre le 8e et le 9e.\n",
            "\n",
            "4. **Sécurité Littorale** : Des discussions sur la sécurité littorale ont également eu lieu, incluant des propositions pour augmenter la fréquence des réunions à une fois tous les 15 jours, surtout durant la période estivale. Un projet concernant l'installation de barrières automatiques a été mentionné, avec des échanges sur la représentativité au sein des réunions.\n",
            "\n",
            "5. **Communication et Représentation** : La question de la communication avec les différents groupes et la nécessité d'impliquer davantage certains élus locaux, comme ceux des maisons de Morfou, a été mise en avant, afin de s'assurer que toutes les voix soient entendues dans les décisions.\n",
            "\n",
            "6. **Prochaines Étapes** : Des propositions pour organiser des réunions avec des personnalités clés, comme la préfète déléguée à la sécurité, ainsi que l'invitation d'un représentant de l'application Oumay pour sensibiliser les participants à son fonctionnement, ont été évoquées.\n",
            "\n",
            "En somme, il y a une volonté d'améliorer la gestion de la médiation littorale en renforçant la fréquence des réunions, en assurant une meilleure représentation des différents quartiers et en soutenant des initiatives locales.\n",
            "\n",
            "------------------------------------------------------------\n",
            "\n",
            "Points clés :\n",
            "\n",
            "**Points clés de la réunion :**\n",
            "\n",
            "1. **Fréquence des réunions de médiation littorale** :\n",
            "   - Initialement trois réunions par mois, désormais réduites à une réunion par mois en raison de l'absence de personnel (deux personnes en congé pour un heureux événement).\n",
            "   - Insatisfaction concernant la fréquence actuelle (une fois par mois jugée insuffisante).\n",
            "\n",
            "2. **Proposition d'augmentation des réunions** :\n",
            "   - Demande de réintégration des Groupes de Prévention et d'Observation (GPO) sur le littoral, surtout pour le 7e arrondissement qui dispose de plusieurs kilomètres de côte.\n",
            "   - Nécessité de faire remonter ce besoin au niveau des autorités concernées.\n",
            "\n",
            "3. **Problématique des répercussions** :\n",
            "   - La faible fréquence des réunions pourrait entraîner des impacts sur d'autres arrondissements.\n",
            "\n",
            "4. **Séparation des fédérations en périodes estivales** :\n",
            "   - Actuellement, le 8e arrondissement est séparé par zones pour mieux gérer les problèmes locaux, créant une disparité dans la gestion des problématiques littorales.\n",
            "\n",
            "5. **Propositions pour la sécurité littorale** :\n",
            "   - Importance de la sécurité, avec des discussions sur l'installation de barrières automatiques.\n",
            "   - Souhait d'augmenter la fréquence des réunions de sécurité littorale à au moins tous les 15 jours pendant la saison estivale.\n",
            "\n",
            "6. **Représentativité du 9e arrondissement** :\n",
            "   - Problème de représentation des zones sensibles comme Morgiu et Sormiu, avec une demande pour une meilleure inclusion des résidents dans les discussions de sécurité.\n",
            "   - Proposition de collaboration avec d'autres membres pour assurer une représentation adéquate.\n",
            "\n",
            "7. **Procédures de communication** :\n",
            "   - Besoin de contacts réguliers et réactifs avec les inspecteurs et autres autorités locales pour une meilleure gestion des problèmes signalés.\n",
            "\n",
            "8. **Projets futurs de réunion** :\n",
            "   - Prévision d'une rencontre avec le commissaire central et recherche d'une réunion avec la préfète déléguée à la sécurité pour aborder plusieurs sujets.\n",
            "   - Discussion sur l'invitation d'un représentant d'une application de sécurité (Oumay) pour expliquer son fonctionnement lors d'une future commission.\n",
            "\n",
            "9. **Feedback positif sur la gestion actuelle** :\n",
            "   - Reconnaissance du travail effectué par certains inspecteurs, tout en soulignant les faiblesses et en demandant un engagement plus fort des autorités. \n",
            "\n",
            "10. **Informations à suivre** :\n",
            "    - Attente de confirmation de dates pour les prochaines réunions, et intention de continuer à faire remonter les préoccupations des citoyens.\n",
            "\n",
            "------------------------------------------------------------\n"
          ]
        }
      ]
    },
    {
      "cell_type": "markdown",
      "source": [
        "Vous disposez désormais d'un notebook complet.\n",
        "Instructions d'utilisation :\n",
        "\n",
        "Montez votre Google Drive avec la cellule 2.\n",
        "\n",
        "1. Installez les dépendances (Whisper et OpenAI).  \n",
        "2. Définissez votre clé API dans la cellule 3.  \n",
        "3. Collez le code de la cellule 4 pour charger le modèle et définir les fonctions.  \n",
        "4. Indiquez le chemin vers votre fichier audio dans la cellule 5.  \n",
        "5. Lancez la cellule 6 pour obtenir la transcription, le résumé et les points clés.\n",
        "\n",
        "Bon usage !\n"
      ],
      "metadata": {
        "id": "Jfd5FHCBCqVQ"
      }
    },
    {
      "cell_type": "code",
      "source": [],
      "metadata": {
        "id": "jH5yk853C9jK"
      },
      "execution_count": null,
      "outputs": []
    }
  ]
}