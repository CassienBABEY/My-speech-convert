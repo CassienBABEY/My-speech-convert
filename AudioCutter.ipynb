{
  "nbformat": 4,
  "nbformat_minor": 0,
  "metadata": {
    "colab": {
      "provenance": []
    },
    "kernelspec": {
      "name": "python3",
      "display_name": "Python 3"
    },
    "language_info": {
      "name": "python"
    }
  },
  "cells": [
    {
      "cell_type": "markdown",
      "source": [
        "# Découpage d'un audio\n",
        "\n",
        "Ce notebook vous permet de :\n",
        "\n",
        "1. **Découper** un fichier audio de réunion en sous-fichier audio du même type de durée d'environ 1h. Il coupe l'audio en X sous-fichier de 1h après un blanc dans l'audio pour éviter une perte d'information.\n",
        "\n",
        "Pour faire simple, votre fichier audio va être découper en sous-fichiers audio d'une heure environ si celui-ci dépasse une heure de longueur. Les sous-fichiers sont directement sauvegarder dans le dossier \"IA pour maman\"\n",
        "\n",
        "## Pré-requis\n",
        "\n",
        "- Un compte Google pour utiliser Google Colab.\n",
        "- Avoir enregistré votre fichier audio (exemple : `Meeting.m4a`) dans votre Google Drive.\n",
        "\n",
        "Suivez les instructions de chaque cellule pour monter votre Google Drive et indiquer le chemin de votre fichier audio.\n",
        "\n",
        "**Pour lancer une cellule, cliquez une seule fois sur le bouton play en haut à gauche des cellules contenant du code.**\n"
      ],
      "metadata": {
        "id": "qQZXkb0v3wSn"
      }
    },
    {
      "cell_type": "code",
      "source": [
        "# Monter Google Drive pour accéder à vos fichiers\n",
        "from google.colab import drive\n",
        "drive.mount('/content/drive')\n",
        "\n",
        "# Installer les packages nécessaires\n",
        "!pip install pydub\n",
        "!apt-get install -y ffmpeg"
      ],
      "metadata": {
        "colab": {
          "base_uri": "https://localhost:8080/"
        },
        "id": "jr-jltYW4LQN",
        "outputId": "358284d6-f6cb-497c-beb3-0aa21f4d019f"
      },
      "execution_count": null,
      "outputs": [
        {
          "output_type": "stream",
          "name": "stdout",
          "text": [
            "Mounted at /content/drive\n",
            "Collecting pydub\n",
            "  Downloading pydub-0.25.1-py2.py3-none-any.whl.metadata (1.4 kB)\n",
            "Downloading pydub-0.25.1-py2.py3-none-any.whl (32 kB)\n",
            "Installing collected packages: pydub\n",
            "Successfully installed pydub-0.25.1\n",
            "Reading package lists... Done\n",
            "Building dependency tree... Done\n",
            "Reading state information... Done\n",
            "ffmpeg is already the newest version (7:4.4.2-0ubuntu0.22.04.1).\n",
            "0 upgraded, 0 newly installed, 0 to remove and 29 not upgraded.\n"
          ]
        }
      ]
    },
    {
      "cell_type": "markdown",
      "source": [
        "#"
      ],
      "metadata": {
        "id": "XJHQw89p43y5"
      }
    },
    {
      "cell_type": "markdown",
      "source": [
        "**Note :** La première exécution de la cellule vous demandera d'autoriser l'accès à votre Google Drive. Cliquez sur le lien, connectez-vous et accepter les différentes étapes. (autorisez tout)"
      ],
      "metadata": {
        "id": "2kdlfXga4sdu"
      }
    },
    {
      "cell_type": "markdown",
      "source": [
        "# Fonction de découpage\n",
        "\n",
        "Lancez juste la cellule ci-dessous."
      ],
      "metadata": {
        "id": "lU8EQqdS48N3"
      }
    },
    {
      "cell_type": "code",
      "source": [
        "from pydub import AudioSegment, silence\n",
        "import os\n",
        "\n",
        "def smart_split_audio(file_path, output_dir='/content/drive/MyDrive/IA pour maman', chunk_length_ms=60*60*1000, search_window_ms=60*1000, silence_thresh_db=-40):\n",
        "    \"\"\"\n",
        "    Découpe un fichier audio autour de tranches d'une heure,\n",
        "    en essayant de couper sur un silence proche de la limite.\n",
        "    \"\"\"\n",
        "    audio = AudioSegment.from_file(file_path)\n",
        "    os.makedirs(output_dir, exist_ok=True)\n",
        "\n",
        "    chunks = []\n",
        "    current_pos = 0\n",
        "    total_duration = len(audio)\n",
        "    part = 1\n",
        "\n",
        "    while current_pos < total_duration:\n",
        "        target_end = current_pos + chunk_length_ms\n",
        "        if target_end > total_duration:\n",
        "            target_end = total_duration\n",
        "\n",
        "        # Chercher un silence dans la fenêtre autour de la cible\n",
        "        search_start = max(current_pos + chunk_length_ms - search_window_ms, current_pos)\n",
        "        search_end = min(current_pos + chunk_length_ms + search_window_ms, total_duration)\n",
        "\n",
        "        segment_to_search = audio[search_start:search_end]\n",
        "        silence_points = silence.detect_silence(segment_to_search,\n",
        "                                                min_silence_len=700,\n",
        "                                                silence_thresh=silence_thresh_db)\n",
        "\n",
        "        if silence_points:\n",
        "            # Prendre la première coupure silencieuse détectée\n",
        "            silence_relative = silence_points[0][0]\n",
        "            cut_point = search_start + silence_relative\n",
        "        else:\n",
        "            # Pas de silence détecté, on coupe brutalement\n",
        "            cut_point = target_end\n",
        "\n",
        "        chunk = audio[current_pos:cut_point]\n",
        "        chunk_path = os.path.join(output_dir, f\"audiopart_{part}.m4a\")\n",
        "        chunk.export(chunk_path, format=\"mp4\")\n",
        "        print(f\"Chunk {part} sauvegardé : {chunk_path}\")\n",
        "\n",
        "        current_pos = cut_point\n",
        "        part += 1\n",
        "\n",
        "    print(\"✂️ Découpage terminé.\")"
      ],
      "metadata": {
        "id": "7E9oTCjn4uKZ"
      },
      "execution_count": null,
      "outputs": []
    },
    {
      "cell_type": "markdown",
      "source": [
        "### **Chargement du fichier**\n",
        "\n",
        "**Indiquez ici le chemin vers votre fichier audio sur Google Drive.**\n",
        "\n",
        "Pour récupérer le chemin :\n",
        "1. Allez dans le panneau de gauche (\"Fichiers\") de Colab.\n",
        "2. Cliquez sur l'icône Google Drive.\n",
        "3. Naviguez jusqu'à votre fichier audio (\"drive\" -> \"MyDrive\" -> \"IA pour maman\"), faites un clic droit et sélectionnez \"Copier le chemin d'accès\".\n",
        "4. Bien mettre le chemin d'accès entre guillemets (simple ou double peut importe)\n",
        "\n",
        "\n",
        "**Exemple :**\n",
        "\n",
        "\n",
        "audio_file = '/content/drive/MyDrive/IA pour maman/Meeting.m4a'"
      ],
      "metadata": {
        "id": "8Oi567yR5lv6"
      }
    },
    {
      "cell_type": "code",
      "source": [
        "audio_file='/content/drive/MyDrive/IA pour maman/B03.04.m4a'"
      ],
      "metadata": {
        "id": "OumNmoVD5POy"
      },
      "execution_count": null,
      "outputs": []
    },
    {
      "cell_type": "markdown",
      "source": [
        "### **Lancement du découpage**\n",
        "\n",
        "**Lancer la cellule ci-dessous pour que la fonction de découpage fasse le traitement de l'audio et enregistre les fichiers dans le dossier \"IA pour maman\"**\n",
        "\n",
        "\n",
        "\n",
        "**Attention :** Vérifier bien que le bon fichier audio est sélectionné ci-dessus.\n",
        "\n",
        "\n",
        "**En cas d'erreur ou autre**, vous pouvez arrêter le traitement en appuyant sur le carré qui a remplacé le 'play' en haut à gauche de la cellule.**\n",
        "\n",
        ".\n",
        "\n",
        "**Pour convertir un autre fichier, remplacer le fichier ci-dessus par le chemin d'accès de votre nouveau fichier puis relancer la cellule ci-dessous**"
      ],
      "metadata": {
        "id": "I4HHj6_x5s6U"
      }
    },
    {
      "cell_type": "code",
      "source": [
        "smart_split_audio(audio_file)"
      ],
      "metadata": {
        "colab": {
          "base_uri": "https://localhost:8080/"
        },
        "id": "KVKBMNeP582Z",
        "outputId": "6cc4bc6a-9574-42da-fba8-803bf6247266"
      },
      "execution_count": null,
      "outputs": [
        {
          "output_type": "stream",
          "name": "stdout",
          "text": [
            "Chunk 1 sauvegardé : /content/drive/MyDrive/IA pour maman/audiopart_1.m4a\n",
            "Chunk 2 sauvegardé : /content/drive/MyDrive/IA pour maman/audiopart_2.m4a\n",
            "Chunk 3 sauvegardé : /content/drive/MyDrive/IA pour maman/audiopart_3.m4a\n",
            "✂️ Découpage terminé.\n"
          ]
        }
      ]
    },
    {
      "cell_type": "code",
      "source": [],
      "metadata": {
        "id": "qThOlRlr6SJx"
      },
      "execution_count": null,
      "outputs": []
    }
  ]
}